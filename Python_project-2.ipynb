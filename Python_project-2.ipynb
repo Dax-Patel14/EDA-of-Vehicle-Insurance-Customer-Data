{
 "cells": [
  {
   "attachments": {
    "download.jpg": {
     "image/jpeg": "[encoded data removed]"
    }
   },
   "cell_type": "markdown",
   "id": "c3d11af6",
   "metadata": {},
   "source": [
    "## Project2: EDA on Vehicle Insurance Customer Data\n",
    "![download.jpg](attachment:download.jpg)"
   ]
  },
  {
   "cell_type": "markdown",
   "id": "804b77cd",
   "metadata": {},
   "source": [
    "### Aim of Project: A company has customer data that contains 8 columns of customer details and another table having name customer_policy data contains the policy details of the customer.  The company intends to offer some discount in premium for certain customers. To do that they ask their Data scientist team to get some information. Hence, following tasks DS team decided to perform:"
   ]
  },
  {
   "cell_type": "code",
   "execution_count": 3,
   "id": "09ec650b",
   "metadata": {},
   "outputs": [],
   "source": [
    "# import required library\n",
    "import pandas as pd\n",
    "import numpy as np\n",
    "import matplotlib.pyplot as plt"
   ]
  },
  {
   "cell_type": "code",
   "execution_count": 4,
   "id": "db747ccb",
   "metadata": {},
   "outputs": [],
   "source": [
    "# Load CSV file\n",
    "df1 = pd.read_csv(\"customer_details.csv\")\n",
    "\n",
    "df2 = pd.read_csv(\"customer_policy_details.csv\")\n"
   ]
  },
  {
   "cell_type": "markdown",
   "id": "374e55e4",
   "metadata": {},
   "source": [
    "### 1. Add the column names to both datasets:"
   ]
  },
  {
   "cell_type": "code",
   "execution_count": null,
   "id": "079da9ee",
   "metadata": {},
   "outputs": [],
   "source": [
    "'''Column Name for customer details table:\n",
    "           customer_id, \n",
    "           Gender,\n",
    "           age, \n",
    "           driving licence present,\n",
    "           region code, \n",
    "           previously insured, \n",
    "           vehicle age \n",
    "           and vehicle damage, in respective order. '''"
   ]
  },
  {
   "cell_type": "code",
   "execution_count": 7,
   "id": "150a2edd",
   "metadata": {},
   "outputs": [
    {
     "data": {
      "text/html": [
       "<div>\n",
       "<style scoped>\n",
       "    .dataframe tbody tr th:only-of-type {\n",
       "        vertical-align: middle;\n",
       "    }\n",
       "\n",
       "    .dataframe tbody tr th {\n",
       "        vertical-align: top;\n",
       "    }\n",
       "\n",
       "    .dataframe thead th {\n",
       "        text-align: right;\n",
       "    }\n",
       "</style>\n",
       "<table border=\"1\" class=\"dataframe\">\n",
       "  <thead>\n",
       "    <tr style=\"text-align: right;\">\n",
       "      <th></th>\n",
       "      <th>customer_id</th>\n",
       "      <th>Gender</th>\n",
       "      <th>age</th>\n",
       "      <th>driving licence present</th>\n",
       "      <th>region code</th>\n",
       "      <th>previously insured</th>\n",
       "      <th>vehicle age</th>\n",
       "      <th>vehicle damage</th>\n",
       "    </tr>\n",
       "  </thead>\n",
       "  <tbody>\n",
       "    <tr>\n",
       "      <th>0</th>\n",
       "      <td>1.0</td>\n",
       "      <td>Male</td>\n",
       "      <td>44.0</td>\n",
       "      <td>1.0</td>\n",
       "      <td>28.0</td>\n",
       "      <td>0.0</td>\n",
       "      <td>&gt; 2 Years</td>\n",
       "      <td>Yes</td>\n",
       "    </tr>\n",
       "    <tr>\n",
       "      <th>1</th>\n",
       "      <td>2.0</td>\n",
       "      <td>Male</td>\n",
       "      <td>76.0</td>\n",
       "      <td>1.0</td>\n",
       "      <td>3.0</td>\n",
       "      <td>0.0</td>\n",
       "      <td>1-2 Year</td>\n",
       "      <td>No</td>\n",
       "    </tr>\n",
       "    <tr>\n",
       "      <th>2</th>\n",
       "      <td>3.0</td>\n",
       "      <td>Male</td>\n",
       "      <td>47.0</td>\n",
       "      <td>1.0</td>\n",
       "      <td>28.0</td>\n",
       "      <td>0.0</td>\n",
       "      <td>&gt; 2 Years</td>\n",
       "      <td>Yes</td>\n",
       "    </tr>\n",
       "    <tr>\n",
       "      <th>3</th>\n",
       "      <td>4.0</td>\n",
       "      <td>Male</td>\n",
       "      <td>21.0</td>\n",
       "      <td>1.0</td>\n",
       "      <td>11.0</td>\n",
       "      <td>1.0</td>\n",
       "      <td>&lt; 1 Year</td>\n",
       "      <td>No</td>\n",
       "    </tr>\n",
       "    <tr>\n",
       "      <th>4</th>\n",
       "      <td>5.0</td>\n",
       "      <td>Female</td>\n",
       "      <td>29.0</td>\n",
       "      <td>1.0</td>\n",
       "      <td>41.0</td>\n",
       "      <td>1.0</td>\n",
       "      <td>&lt; 1 Year</td>\n",
       "      <td>No</td>\n",
       "    </tr>\n",
       "  </tbody>\n",
       "</table>\n",
       "</div>"
      ],
      "text/plain": [
       "   customer_id  Gender   age  driving licence present  region code  \\\n",
       "0          1.0    Male  44.0                      1.0         28.0   \n",
       "1          2.0    Male  76.0                      1.0          3.0   \n",
       "2          3.0    Male  47.0                      1.0         28.0   \n",
       "3          4.0    Male  21.0                      1.0         11.0   \n",
       "4          5.0  Female  29.0                      1.0         41.0   \n",
       "\n",
       "   previously insured vehicle age vehicle damage  \n",
       "0                 0.0   > 2 Years            Yes  \n",
       "1                 0.0    1-2 Year             No  \n",
       "2                 0.0   > 2 Years            Yes  \n",
       "3                 1.0    < 1 Year             No  \n",
       "4                 1.0    < 1 Year             No  "
      ]
     },
     "execution_count": 7,
     "metadata": {},
     "output_type": "execute_result"
    }
   ],
   "source": [
    "# Adding column name to customer details\n",
    "df1.columns = ['customer_id','Gender','age','driving licence present','region code', 'previously insured','vehicle age','vehicle damage']\n",
    "\n",
    "# see top 5 data\n",
    "df1.head()\n"
   ]
  },
  {
   "cell_type": "code",
   "execution_count": 12,
   "id": "7b3300eb",
   "metadata": {},
   "outputs": [
    {
     "data": {
      "text/plain": [
       "'Column Name for customer_policy table:\\n           customer_id, \\n           annual premium (in Rs), \\n           sales channel code, \\n           vintage and response. '"
      ]
     },
     "execution_count": 12,
     "metadata": {},
     "output_type": "execute_result"
    }
   ],
   "source": [
    "'''Column Name for customer_policy table:\n",
    "           customer_id, \n",
    "           annual premium (in Rs), \n",
    "           sales channel code, \n",
    "           vintage and response. '''"
   ]
  },
  {
   "cell_type": "code",
   "execution_count": 8,
   "id": "944fbf4f",
   "metadata": {},
   "outputs": [
    {
     "data": {
      "text/html": [
       "<div>\n",
       "<style scoped>\n",
       "    .dataframe tbody tr th:only-of-type {\n",
       "        vertical-align: middle;\n",
       "    }\n",
       "\n",
       "    .dataframe tbody tr th {\n",
       "        vertical-align: top;\n",
       "    }\n",
       "\n",
       "    .dataframe thead th {\n",
       "        text-align: right;\n",
       "    }\n",
       "</style>\n",
       "<table border=\"1\" class=\"dataframe\">\n",
       "  <thead>\n",
       "    <tr style=\"text-align: right;\">\n",
       "      <th></th>\n",
       "      <th>customer_id</th>\n",
       "      <th>annual premium (in Rs)</th>\n",
       "      <th>sales channel code</th>\n",
       "      <th>vintage</th>\n",
       "      <th>response</th>\n",
       "    </tr>\n",
       "  </thead>\n",
       "  <tbody>\n",
       "    <tr>\n",
       "      <th>0</th>\n",
       "      <td>1.0</td>\n",
       "      <td>40454.0</td>\n",
       "      <td>26.0</td>\n",
       "      <td>217.0</td>\n",
       "      <td>1.0</td>\n",
       "    </tr>\n",
       "    <tr>\n",
       "      <th>1</th>\n",
       "      <td>2.0</td>\n",
       "      <td>33536.0</td>\n",
       "      <td>26.0</td>\n",
       "      <td>183.0</td>\n",
       "      <td>0.0</td>\n",
       "    </tr>\n",
       "  </tbody>\n",
       "</table>\n",
       "</div>"
      ],
      "text/plain": [
       "   customer_id  annual premium (in Rs)  sales channel code  vintage  response\n",
       "0          1.0                 40454.0                26.0    217.0       1.0\n",
       "1          2.0                 33536.0                26.0    183.0       0.0"
      ]
     },
     "execution_count": 8,
     "metadata": {},
     "output_type": "execute_result"
    }
   ],
   "source": [
    "# Adding column name to customer_policy table\n",
    "df2.columns = ['customer_id', 'annual premium (in Rs)', 'sales channel code', 'vintage','response']\n",
    "\n",
    "# see top 5 data\n",
    "df2.head(2)"
   ]
  },
  {
   "cell_type": "markdown",
   "id": "7e4418da",
   "metadata": {},
   "source": [
    "## 2. Checking and Cleaning Data Quality:"
   ]
  },
  {
   "cell_type": "markdown",
   "id": "ed9c1051",
   "metadata": {},
   "source": [
    "### 1. Null values"
   ]
  },
  {
   "cell_type": "markdown",
   "id": "85979dbb",
   "metadata": {},
   "source": [
    "### 1-A: Generate a summary of count of all the null values column wise"
   ]
  },
  {
   "cell_type": "code",
   "execution_count": 9,
   "id": "bf750f3a",
   "metadata": {},
   "outputs": [
    {
     "data": {
      "text/plain": [
       "customer_id                386\n",
       "Gender                     368\n",
       "age                        368\n",
       "driving licence present    393\n",
       "region code                392\n",
       "previously insured         381\n",
       "vehicle age                381\n",
       "vehicle damage             407\n",
       "dtype: int64"
      ]
     },
     "execution_count": 9,
     "metadata": {},
     "output_type": "execute_result"
    }
   ],
   "source": [
    "\n",
    "# ------ customer_detail dataset ---------#\n",
    "\n",
    "df1_n = df1.isnull()  # it returns true where values are missing\n",
    "\n",
    "# count no of values that are missing column wise\n",
    "df1.isnull().sum()\n"
   ]
  },
  {
   "cell_type": "code",
   "execution_count": 10,
   "id": "4b653226",
   "metadata": {},
   "outputs": [
    {
     "data": {
      "text/plain": [
       "customer_id               387\n",
       "annual premium (in Rs)    346\n",
       "sales channel code        400\n",
       "vintage                   388\n",
       "response                  361\n",
       "dtype: int64"
      ]
     },
     "execution_count": 10,
     "metadata": {},
     "output_type": "execute_result"
    }
   ],
   "source": [
    "# ------ customer_policy dataset ---------#\n",
    "\n",
    "df2_n = df2.isnull()  # it returns true where values are missing\n",
    "# count no of values that are missing column wise\n",
    "df2.isnull().sum()\n"
   ]
  },
  {
   "cell_type": "markdown",
   "id": "1bf38c21",
   "metadata": {},
   "source": [
    "### 1-B: Drop Null values for customer_id because central tendencies for id’s is not feasible."
   ]
  },
  {
   "cell_type": "code",
   "execution_count": 12,
   "id": "a2140602",
   "metadata": {},
   "outputs": [],
   "source": [
    "\n",
    "# ------ customer_detail dataset ---------#\n",
    "\n",
    "# it drops all rows where values are missing in customer_id column\n",
    "df1.dropna(subset=['customer_id'],axis = 0,inplace = True)\n",
    "\n",
    "# In Data set some rows gets deleted so we have to arrange indexing\n",
    "df1.reset_index(drop = True,inplace=True)\n"
   ]
  },
  {
   "cell_type": "code",
   "execution_count": 13,
   "id": "caa0e01e",
   "metadata": {},
   "outputs": [],
   "source": [
    "\n",
    "# ------ customer_policy dataset ---------#\n",
    "\n",
    "# it drops all rows where values are missing in customer_id column\n",
    "df2.dropna(subset=['customer_id'],axis = 0,inplace = True)\n",
    "\n",
    "# In Data set some rows gets deleted so we have to arrange indexing\n",
    "df2.reset_index(drop = True,inplace=True)"
   ]
  },
  {
   "cell_type": "markdown",
   "id": "ee0d850e",
   "metadata": {},
   "source": [
    "### 1-C Replace all null values for numeric columns by mean."
   ]
  },
  {
   "cell_type": "code",
   "execution_count": 14,
   "id": "17f647b2",
   "metadata": {},
   "outputs": [
    {
     "name": "stdout",
     "output_type": "stream",
     "text": [
      "customer_id                float64\n",
      "Gender                      object\n",
      "age                        float64\n",
      "driving licence present    float64\n",
      "region code                float64\n",
      "previously insured         float64\n",
      "vehicle age                 object\n",
      "vehicle damage              object\n",
      "dtype: object\n"
     ]
    }
   ],
   "source": [
    "\n",
    "# ------ customer_detail dataset ---------#\n",
    "\n",
    "#Replacing the null value of age by its mean value\n",
    "df1['age'].fillna(df1['age'].mean(),inplace=True)\n",
    "\n",
    "#Replacing the null value of region code by its mean value\n",
    "df1['region code'].fillna(df1['region code'].mean(),inplace=True)\n",
    "\n",
    "df1.head()\n",
    "print(df1.dtypes)"
   ]
  },
  {
   "cell_type": "code",
   "execution_count": 15,
   "id": "8b8da6a5",
   "metadata": {},
   "outputs": [
    {
     "data": {
      "text/html": [
       "<div>\n",
       "<style scoped>\n",
       "    .dataframe tbody tr th:only-of-type {\n",
       "        vertical-align: middle;\n",
       "    }\n",
       "\n",
       "    .dataframe tbody tr th {\n",
       "        vertical-align: top;\n",
       "    }\n",
       "\n",
       "    .dataframe thead th {\n",
       "        text-align: right;\n",
       "    }\n",
       "</style>\n",
       "<table border=\"1\" class=\"dataframe\">\n",
       "  <thead>\n",
       "    <tr style=\"text-align: right;\">\n",
       "      <th></th>\n",
       "      <th>customer_id</th>\n",
       "      <th>annual premium (in Rs)</th>\n",
       "      <th>sales channel code</th>\n",
       "      <th>vintage</th>\n",
       "      <th>response</th>\n",
       "    </tr>\n",
       "  </thead>\n",
       "  <tbody>\n",
       "    <tr>\n",
       "      <th>0</th>\n",
       "      <td>1.0</td>\n",
       "      <td>40454.0</td>\n",
       "      <td>26.0</td>\n",
       "      <td>217.0</td>\n",
       "      <td>1.0</td>\n",
       "    </tr>\n",
       "    <tr>\n",
       "      <th>1</th>\n",
       "      <td>2.0</td>\n",
       "      <td>33536.0</td>\n",
       "      <td>26.0</td>\n",
       "      <td>183.0</td>\n",
       "      <td>0.0</td>\n",
       "    </tr>\n",
       "    <tr>\n",
       "      <th>2</th>\n",
       "      <td>3.0</td>\n",
       "      <td>38294.0</td>\n",
       "      <td>26.0</td>\n",
       "      <td>27.0</td>\n",
       "      <td>1.0</td>\n",
       "    </tr>\n",
       "    <tr>\n",
       "      <th>3</th>\n",
       "      <td>4.0</td>\n",
       "      <td>28619.0</td>\n",
       "      <td>152.0</td>\n",
       "      <td>203.0</td>\n",
       "      <td>0.0</td>\n",
       "    </tr>\n",
       "    <tr>\n",
       "      <th>4</th>\n",
       "      <td>5.0</td>\n",
       "      <td>27496.0</td>\n",
       "      <td>152.0</td>\n",
       "      <td>39.0</td>\n",
       "      <td>0.0</td>\n",
       "    </tr>\n",
       "  </tbody>\n",
       "</table>\n",
       "</div>"
      ],
      "text/plain": [
       "   customer_id  annual premium (in Rs)  sales channel code  vintage  response\n",
       "0          1.0                 40454.0                26.0    217.0       1.0\n",
       "1          2.0                 33536.0                26.0    183.0       0.0\n",
       "2          3.0                 38294.0                26.0     27.0       1.0\n",
       "3          4.0                 28619.0               152.0    203.0       0.0\n",
       "4          5.0                 27496.0               152.0     39.0       0.0"
      ]
     },
     "execution_count": 15,
     "metadata": {},
     "output_type": "execute_result"
    }
   ],
   "source": [
    "# ------ customer_policy dataset ---------#\n",
    "\n",
    "# Replacing the null values of annual premium by its mean value\n",
    "df2['annual premium (in Rs)'].fillna(df2['annual premium (in Rs)'].mean(),inplace = True)\n",
    "\n",
    "# Replacing the null values of sales channel code by its mean value\n",
    "df2['sales channel code'].fillna(df2['sales channel code'].mean(),inplace = True)\n",
    "\n",
    "# Replacing the null values of vintage by its mean value\n",
    "df2['vintage'].fillna(df2['vintage'].mean(),inplace = True)\n",
    "\n",
    "df2.head()"
   ]
  },
  {
   "cell_type": "markdown",
   "id": "ef29776e",
   "metadata": {},
   "source": [
    "### 1-D Replace all null values for Categorical value by mode."
   ]
  },
  {
   "cell_type": "code",
   "execution_count": 20,
   "id": "af27ad12",
   "metadata": {},
   "outputs": [
    {
     "data": {
      "text/html": [
       "<div>\n",
       "<style scoped>\n",
       "    .dataframe tbody tr th:only-of-type {\n",
       "        vertical-align: middle;\n",
       "    }\n",
       "\n",
       "    .dataframe tbody tr th {\n",
       "        vertical-align: top;\n",
       "    }\n",
       "\n",
       "    .dataframe thead th {\n",
       "        text-align: right;\n",
       "    }\n",
       "</style>\n",
       "<table border=\"1\" class=\"dataframe\">\n",
       "  <thead>\n",
       "    <tr style=\"text-align: right;\">\n",
       "      <th></th>\n",
       "      <th>customer_id</th>\n",
       "      <th>Gender</th>\n",
       "      <th>age</th>\n",
       "      <th>driving licence present</th>\n",
       "      <th>region code</th>\n",
       "      <th>previously insured</th>\n",
       "      <th>vehicle age</th>\n",
       "      <th>vehicle damage</th>\n",
       "    </tr>\n",
       "  </thead>\n",
       "  <tbody>\n",
       "    <tr>\n",
       "      <th>0</th>\n",
       "      <td>1.0</td>\n",
       "      <td>Male</td>\n",
       "      <td>44.0</td>\n",
       "      <td>1.0</td>\n",
       "      <td>28.0</td>\n",
       "      <td>0.0</td>\n",
       "      <td>&gt; 2 Years</td>\n",
       "      <td>Yes</td>\n",
       "    </tr>\n",
       "    <tr>\n",
       "      <th>1</th>\n",
       "      <td>2.0</td>\n",
       "      <td>Male</td>\n",
       "      <td>76.0</td>\n",
       "      <td>1.0</td>\n",
       "      <td>3.0</td>\n",
       "      <td>0.0</td>\n",
       "      <td>1-2 Year</td>\n",
       "      <td>No</td>\n",
       "    </tr>\n",
       "    <tr>\n",
       "      <th>2</th>\n",
       "      <td>3.0</td>\n",
       "      <td>Male</td>\n",
       "      <td>47.0</td>\n",
       "      <td>1.0</td>\n",
       "      <td>28.0</td>\n",
       "      <td>0.0</td>\n",
       "      <td>&gt; 2 Years</td>\n",
       "      <td>Yes</td>\n",
       "    </tr>\n",
       "    <tr>\n",
       "      <th>3</th>\n",
       "      <td>4.0</td>\n",
       "      <td>Male</td>\n",
       "      <td>21.0</td>\n",
       "      <td>1.0</td>\n",
       "      <td>11.0</td>\n",
       "      <td>1.0</td>\n",
       "      <td>&lt; 1 Year</td>\n",
       "      <td>No</td>\n",
       "    </tr>\n",
       "    <tr>\n",
       "      <th>4</th>\n",
       "      <td>5.0</td>\n",
       "      <td>Female</td>\n",
       "      <td>29.0</td>\n",
       "      <td>1.0</td>\n",
       "      <td>41.0</td>\n",
       "      <td>1.0</td>\n",
       "      <td>&lt; 1 Year</td>\n",
       "      <td>No</td>\n",
       "    </tr>\n",
       "  </tbody>\n",
       "</table>\n",
       "</div>"
      ],
      "text/plain": [
       "   customer_id  Gender   age  driving licence present  region code  \\\n",
       "0          1.0    Male  44.0                      1.0         28.0   \n",
       "1          2.0    Male  76.0                      1.0          3.0   \n",
       "2          3.0    Male  47.0                      1.0         28.0   \n",
       "3          4.0    Male  21.0                      1.0         11.0   \n",
       "4          5.0  Female  29.0                      1.0         41.0   \n",
       "\n",
       "   previously insured vehicle age vehicle damage  \n",
       "0                 0.0   > 2 Years            Yes  \n",
       "1                 0.0    1-2 Year             No  \n",
       "2                 0.0   > 2 Years            Yes  \n",
       "3                 1.0    < 1 Year             No  \n",
       "4                 1.0    < 1 Year             No  "
      ]
     },
     "execution_count": 20,
     "metadata": {},
     "output_type": "execute_result"
    }
   ],
   "source": [
    "\n",
    "# ------ customer_detail dataset ---------#\n",
    "\n",
    "# it replaces the null values of driving licence present by its mode value.\n",
    "df1['driving licence present'].fillna (df1['driving licence present'].mode()[0], inplace=True)\n",
    "\n",
    "# it replaces the null values of previously insured by its mode value.\n",
    "df1['previously insured'].fillna (df1['previously insured'].mode()[0], inplace=True)\n",
    "\n",
    "# it replaces the null values of previously insured by its mode value.\n",
    "df1['Gender'].fillna (df1['Gender'].mode()[0], inplace=True)\n",
    "\n",
    "# it replaces the null values of vehicle damage by its mode value.\n",
    "df1['vehicle damage'].fillna (df1['vehicle damage'].mode()[0], inplace=True)\n",
    "\n",
    "# it replaces the null values of vehicle age by its mode value.\n",
    "df1['vehicle age'].fillna (df1['vehicle age'].mode()[0], inplace=True)\n",
    "df1.head()"
   ]
  },
  {
   "cell_type": "code",
   "execution_count": 21,
   "id": "81fd79d3",
   "metadata": {},
   "outputs": [
    {
     "data": {
      "text/html": [
       "<div>\n",
       "<style scoped>\n",
       "    .dataframe tbody tr th:only-of-type {\n",
       "        vertical-align: middle;\n",
       "    }\n",
       "\n",
       "    .dataframe tbody tr th {\n",
       "        vertical-align: top;\n",
       "    }\n",
       "\n",
       "    .dataframe thead th {\n",
       "        text-align: right;\n",
       "    }\n",
       "</style>\n",
       "<table border=\"1\" class=\"dataframe\">\n",
       "  <thead>\n",
       "    <tr style=\"text-align: right;\">\n",
       "      <th></th>\n",
       "      <th>customer_id</th>\n",
       "      <th>annual premium (in Rs)</th>\n",
       "      <th>sales channel code</th>\n",
       "      <th>vintage</th>\n",
       "      <th>response</th>\n",
       "    </tr>\n",
       "  </thead>\n",
       "  <tbody>\n",
       "    <tr>\n",
       "      <th>0</th>\n",
       "      <td>1.0</td>\n",
       "      <td>40454.0</td>\n",
       "      <td>26.0</td>\n",
       "      <td>217.0</td>\n",
       "      <td>1.0</td>\n",
       "    </tr>\n",
       "    <tr>\n",
       "      <th>1</th>\n",
       "      <td>2.0</td>\n",
       "      <td>33536.0</td>\n",
       "      <td>26.0</td>\n",
       "      <td>183.0</td>\n",
       "      <td>0.0</td>\n",
       "    </tr>\n",
       "    <tr>\n",
       "      <th>2</th>\n",
       "      <td>3.0</td>\n",
       "      <td>38294.0</td>\n",
       "      <td>26.0</td>\n",
       "      <td>27.0</td>\n",
       "      <td>1.0</td>\n",
       "    </tr>\n",
       "    <tr>\n",
       "      <th>3</th>\n",
       "      <td>4.0</td>\n",
       "      <td>28619.0</td>\n",
       "      <td>152.0</td>\n",
       "      <td>203.0</td>\n",
       "      <td>0.0</td>\n",
       "    </tr>\n",
       "    <tr>\n",
       "      <th>4</th>\n",
       "      <td>5.0</td>\n",
       "      <td>27496.0</td>\n",
       "      <td>152.0</td>\n",
       "      <td>39.0</td>\n",
       "      <td>0.0</td>\n",
       "    </tr>\n",
       "  </tbody>\n",
       "</table>\n",
       "</div>"
      ],
      "text/plain": [
       "   customer_id  annual premium (in Rs)  sales channel code  vintage  response\n",
       "0          1.0                 40454.0                26.0    217.0       1.0\n",
       "1          2.0                 33536.0                26.0    183.0       0.0\n",
       "2          3.0                 38294.0                26.0     27.0       1.0\n",
       "3          4.0                 28619.0               152.0    203.0       0.0\n",
       "4          5.0                 27496.0               152.0     39.0       0.0"
      ]
     },
     "execution_count": 21,
     "metadata": {},
     "output_type": "execute_result"
    }
   ],
   "source": [
    "# ------ customer_policy dataset ---------#\n",
    "\n",
    "# it replaces the null values of responce by its mode value.\n",
    "df2['response'].fillna(df2['response'].mode()[0], inplace=True)\n",
    "\n",
    "df2.head()"
   ]
  },
  {
   "cell_type": "code",
   "execution_count": 22,
   "id": "86b9ab8b",
   "metadata": {},
   "outputs": [
    {
     "data": {
      "text/plain": [
       "customer_id                0\n",
       "Gender                     0\n",
       "age                        0\n",
       "driving licence present    0\n",
       "region code                0\n",
       "previously insured         0\n",
       "vehicle age                0\n",
       "vehicle damage             0\n",
       "dtype: int64"
      ]
     },
     "execution_count": 22,
     "metadata": {},
     "output_type": "execute_result"
    }
   ],
   "source": [
    "# cross check whether any null data present or not\n",
    "# ------ customer_detail dataset ---------#\n",
    "df1.isnull().sum()"
   ]
  },
  {
   "cell_type": "code",
   "execution_count": 23,
   "id": "00016fda",
   "metadata": {},
   "outputs": [
    {
     "data": {
      "text/plain": [
       "customer_id               0\n",
       "annual premium (in Rs)    0\n",
       "sales channel code        0\n",
       "vintage                   0\n",
       "response                  0\n",
       "dtype: int64"
      ]
     },
     "execution_count": 23,
     "metadata": {},
     "output_type": "execute_result"
    }
   ],
   "source": [
    "# ------ customer_policy dataset ---------#\n",
    "df2.isnull().sum()"
   ]
  },
  {
   "cell_type": "markdown",
   "id": "c6e0f5bb",
   "metadata": {},
   "source": [
    "### 2. Outliers \n",
    "#### Outliers are those data points that are significantly different from the rest of the dataset."
   ]
  },
  {
   "cell_type": "code",
   "execution_count": 16,
   "id": "cbbbf8d1",
   "metadata": {},
   "outputs": [
    {
     "data": {
      "text/html": [
       "<div>\n",
       "<style scoped>\n",
       "    .dataframe tbody tr th:only-of-type {\n",
       "        vertical-align: middle;\n",
       "    }\n",
       "\n",
       "    .dataframe tbody tr th {\n",
       "        vertical-align: top;\n",
       "    }\n",
       "\n",
       "    .dataframe thead th {\n",
       "        text-align: right;\n",
       "    }\n",
       "</style>\n",
       "<table border=\"1\" class=\"dataframe\">\n",
       "  <thead>\n",
       "    <tr style=\"text-align: right;\">\n",
       "      <th></th>\n",
       "      <th>customer_id</th>\n",
       "      <th>age</th>\n",
       "      <th>driving licence present</th>\n",
       "      <th>region code</th>\n",
       "      <th>previously insured</th>\n",
       "    </tr>\n",
       "  </thead>\n",
       "  <tbody>\n",
       "    <tr>\n",
       "      <th>count</th>\n",
       "      <td>380723.000000</td>\n",
       "      <td>380723.000000</td>\n",
       "      <td>380723.000000</td>\n",
       "      <td>380723.000000</td>\n",
       "      <td>380723.000000</td>\n",
       "    </tr>\n",
       "    <tr>\n",
       "      <th>mean</th>\n",
       "      <td>190548.776244</td>\n",
       "      <td>38.822788</td>\n",
       "      <td>0.997870</td>\n",
       "      <td>26.389436</td>\n",
       "      <td>0.457800</td>\n",
       "    </tr>\n",
       "    <tr>\n",
       "      <th>std</th>\n",
       "      <td>110016.805160</td>\n",
       "      <td>15.504826</td>\n",
       "      <td>0.046105</td>\n",
       "      <td>13.223671</td>\n",
       "      <td>0.498217</td>\n",
       "    </tr>\n",
       "    <tr>\n",
       "      <th>min</th>\n",
       "      <td>1.000000</td>\n",
       "      <td>20.000000</td>\n",
       "      <td>0.000000</td>\n",
       "      <td>0.000000</td>\n",
       "      <td>0.000000</td>\n",
       "    </tr>\n",
       "    <tr>\n",
       "      <th>25%</th>\n",
       "      <td>95269.500000</td>\n",
       "      <td>25.000000</td>\n",
       "      <td>1.000000</td>\n",
       "      <td>15.000000</td>\n",
       "      <td>0.000000</td>\n",
       "    </tr>\n",
       "    <tr>\n",
       "      <th>50%</th>\n",
       "      <td>190543.000000</td>\n",
       "      <td>36.000000</td>\n",
       "      <td>1.000000</td>\n",
       "      <td>28.000000</td>\n",
       "      <td>0.000000</td>\n",
       "    </tr>\n",
       "    <tr>\n",
       "      <th>75%</th>\n",
       "      <td>285822.500000</td>\n",
       "      <td>49.000000</td>\n",
       "      <td>1.000000</td>\n",
       "      <td>35.000000</td>\n",
       "      <td>1.000000</td>\n",
       "    </tr>\n",
       "    <tr>\n",
       "      <th>max</th>\n",
       "      <td>381109.000000</td>\n",
       "      <td>85.000000</td>\n",
       "      <td>1.000000</td>\n",
       "      <td>52.000000</td>\n",
       "      <td>1.000000</td>\n",
       "    </tr>\n",
       "  </tbody>\n",
       "</table>\n",
       "</div>"
      ],
      "text/plain": [
       "         customer_id            age  driving licence present    region code  \\\n",
       "count  380723.000000  380723.000000            380723.000000  380723.000000   \n",
       "mean   190548.776244      38.822788                 0.997870      26.389436   \n",
       "std    110016.805160      15.504826                 0.046105      13.223671   \n",
       "min         1.000000      20.000000                 0.000000       0.000000   \n",
       "25%     95269.500000      25.000000                 1.000000      15.000000   \n",
       "50%    190543.000000      36.000000                 1.000000      28.000000   \n",
       "75%    285822.500000      49.000000                 1.000000      35.000000   \n",
       "max    381109.000000      85.000000                 1.000000      52.000000   \n",
       "\n",
       "       previously insured  \n",
       "count       380723.000000  \n",
       "mean             0.457800  \n",
       "std              0.498217  \n",
       "min              0.000000  \n",
       "25%              0.000000  \n",
       "50%              0.000000  \n",
       "75%              1.000000  \n",
       "max              1.000000  "
      ]
     },
     "execution_count": 16,
     "metadata": {},
     "output_type": "execute_result"
    }
   ],
   "source": [
    "# summary of statastical parameter for Data frame columnwise\n",
    "df1.describe()"
   ]
  },
  {
   "cell_type": "code",
   "execution_count": 17,
   "id": "b7dd6d25",
   "metadata": {},
   "outputs": [
    {
     "data": {
      "text/html": [
       "<div>\n",
       "<style scoped>\n",
       "    .dataframe tbody tr th:only-of-type {\n",
       "        vertical-align: middle;\n",
       "    }\n",
       "\n",
       "    .dataframe tbody tr th {\n",
       "        vertical-align: top;\n",
       "    }\n",
       "\n",
       "    .dataframe thead th {\n",
       "        text-align: right;\n",
       "    }\n",
       "</style>\n",
       "<table border=\"1\" class=\"dataframe\">\n",
       "  <thead>\n",
       "    <tr style=\"text-align: right;\">\n",
       "      <th></th>\n",
       "      <th>customer_id</th>\n",
       "      <th>annual premium (in Rs)</th>\n",
       "      <th>sales channel code</th>\n",
       "      <th>vintage</th>\n",
       "      <th>response</th>\n",
       "    </tr>\n",
       "  </thead>\n",
       "  <tbody>\n",
       "    <tr>\n",
       "      <th>count</th>\n",
       "      <td>380722.000000</td>\n",
       "      <td>380722.000000</td>\n",
       "      <td>380722.000000</td>\n",
       "      <td>380722.000000</td>\n",
       "      <td>380722.000000</td>\n",
       "    </tr>\n",
       "    <tr>\n",
       "      <th>mean</th>\n",
       "      <td>190547.491663</td>\n",
       "      <td>30563.999774</td>\n",
       "      <td>112.036687</td>\n",
       "      <td>154.347192</td>\n",
       "      <td>0.122410</td>\n",
       "    </tr>\n",
       "    <tr>\n",
       "      <th>std</th>\n",
       "      <td>110013.824148</td>\n",
       "      <td>17190.147550</td>\n",
       "      <td>54.177046</td>\n",
       "      <td>83.628096</td>\n",
       "      <td>0.327759</td>\n",
       "    </tr>\n",
       "    <tr>\n",
       "      <th>min</th>\n",
       "      <td>1.000000</td>\n",
       "      <td>2630.000000</td>\n",
       "      <td>1.000000</td>\n",
       "      <td>10.000000</td>\n",
       "      <td>0.000000</td>\n",
       "    </tr>\n",
       "    <tr>\n",
       "      <th>25%</th>\n",
       "      <td>95276.250000</td>\n",
       "      <td>24416.000000</td>\n",
       "      <td>29.000000</td>\n",
       "      <td>82.000000</td>\n",
       "      <td>0.000000</td>\n",
       "    </tr>\n",
       "    <tr>\n",
       "      <th>50%</th>\n",
       "      <td>190536.500000</td>\n",
       "      <td>31656.000000</td>\n",
       "      <td>131.000000</td>\n",
       "      <td>154.000000</td>\n",
       "      <td>0.000000</td>\n",
       "    </tr>\n",
       "    <tr>\n",
       "      <th>75%</th>\n",
       "      <td>285818.750000</td>\n",
       "      <td>39391.750000</td>\n",
       "      <td>152.000000</td>\n",
       "      <td>227.000000</td>\n",
       "      <td>0.000000</td>\n",
       "    </tr>\n",
       "    <tr>\n",
       "      <th>max</th>\n",
       "      <td>381109.000000</td>\n",
       "      <td>540165.000000</td>\n",
       "      <td>163.000000</td>\n",
       "      <td>299.000000</td>\n",
       "      <td>1.000000</td>\n",
       "    </tr>\n",
       "  </tbody>\n",
       "</table>\n",
       "</div>"
      ],
      "text/plain": [
       "         customer_id  annual premium (in Rs)  sales channel code  \\\n",
       "count  380722.000000           380722.000000       380722.000000   \n",
       "mean   190547.491663            30563.999774          112.036687   \n",
       "std    110013.824148            17190.147550           54.177046   \n",
       "min         1.000000             2630.000000            1.000000   \n",
       "25%     95276.250000            24416.000000           29.000000   \n",
       "50%    190536.500000            31656.000000          131.000000   \n",
       "75%    285818.750000            39391.750000          152.000000   \n",
       "max    381109.000000           540165.000000          163.000000   \n",
       "\n",
       "             vintage       response  \n",
       "count  380722.000000  380722.000000  \n",
       "mean      154.347192       0.122410  \n",
       "std        83.628096       0.327759  \n",
       "min        10.000000       0.000000  \n",
       "25%        82.000000       0.000000  \n",
       "50%       154.000000       0.000000  \n",
       "75%       227.000000       0.000000  \n",
       "max       299.000000       1.000000  "
      ]
     },
     "execution_count": 17,
     "metadata": {},
     "output_type": "execute_result"
    }
   ],
   "source": [
    "df2.describe()"
   ]
  },
  {
   "cell_type": "markdown",
   "id": "b4aeab40",
   "metadata": {},
   "source": [
    "### 2-A Generate a summary of count of all the outliers column wise"
   ]
  },
  {
   "cell_type": "code",
   "execution_count": 24,
   "id": "337429d7",
   "metadata": {},
   "outputs": [],
   "source": [
    "\n",
    "# Define function that returns outlier\n",
    "def finding_outliers(df):\n",
    "    q1 = df.quantile(0.25)\n",
    "    q3 = df.quantile(0.75)\n",
    "    iqr = q3-q1\n",
    "    outlier = df[((df<(q1-1.5*iqr)) | (df>(q3+1.5*iqr)))]\n",
    "    return outlier\n",
    "\n",
    "# Define function that returns box-plot to visulize outlier\n",
    "\n",
    "def boxplot(df,feature):\n",
    "    df.boxplot(column=[feature])\n",
    "    plt.grid(False)\n",
    "    plt.show()"
   ]
  },
  {
   "cell_type": "code",
   "execution_count": 25,
   "id": "faf927b2",
   "metadata": {},
   "outputs": [
    {
     "name": "stdout",
     "output_type": "stream",
     "text": [
      "Number of outliers in outlier_age: 0\n",
      "Maximum outlier value : nan\n",
      "Minimum outlier value : nan\n"
     ]
    },
    {
     "data": {
      "image/png": "[encoded data removed]",
      "text/plain": [
       "<Figure size 432x288 with 1 Axes>"
      ]
     },
     "metadata": {
      "needs_background": "light"
     },
     "output_type": "display_data"
    }
   ],
   "source": [
    "# ------ customer_detail dataset ---------#\n",
    "# In this dataset 2 features have numeric values, so we are finding outlier for the same\n",
    "\n",
    "outlier_age= finding_outliers(df1['age'])\n",
    "print('Number of outliers in outlier_age:',len(outlier_age))\n",
    "print('Maximum outlier value :',outlier_age.max())\n",
    "print('Minimum outlier value :',outlier_age.min())\n",
    "\n",
    "boxplot(df1,'age')"
   ]
  },
  {
   "cell_type": "code",
   "execution_count": 26,
   "id": "daa3bd87",
   "metadata": {},
   "outputs": [
    {
     "name": "stdout",
     "output_type": "stream",
     "text": [
      "Number of outliers in region code : 0\n",
      "Maximum outlier value : nan\n",
      "Minimum outlier value : nan\n"
     ]
    },
    {
     "data": {
      "image/png": "[encoded data removed]",
      "text/plain": [
       "<Figure size 432x288 with 1 Axes>"
      ]
     },
     "metadata": {
      "needs_background": "light"
     },
     "output_type": "display_data"
    }
   ],
   "source": [
    "outlier_region= finding_outliers(df1['region code'])\n",
    "print('Number of outliers in region code :',len(outlier_region))\n",
    "print('Maximum outlier value :',outlier_region.max())\n",
    "print('Minimum outlier value :',outlier_region.min())\n",
    "\n",
    "boxplot(df1,'region code')"
   ]
  },
  {
   "cell_type": "code",
   "execution_count": 27,
   "id": "56eabe2b",
   "metadata": {},
   "outputs": [
    {
     "name": "stdout",
     "output_type": "stream",
     "text": [
      "Number of outliers in annual premium (in Rs) : 10332\n",
      "Maximum outlier value : 540165.0\n",
      "Minimum outlier value : 61858.0\n"
     ]
    },
    {
     "data": {
      "image/png": "[encoded data removed]",
      "text/plain": [
       "<Figure size 432x288 with 1 Axes>"
      ]
     },
     "metadata": {
      "needs_background": "light"
     },
     "output_type": "display_data"
    }
   ],
   "source": [
    "# ------ customer_policy dataset ---------#\n",
    "# In this dataset 3 features have numeric values, so we are finding outlier for the same\n",
    "\n",
    "outlier_ann_prem= finding_outliers(df2['annual premium (in Rs)'])\n",
    "print('Number of outliers in annual premium (in Rs) :',len(outlier_ann_prem))\n",
    "print('Maximum outlier value :',outlier_ann_prem.max())\n",
    "print('Minimum outlier value :',outlier_ann_prem.min())\n",
    "\n",
    "boxplot(df2,'annual premium (in Rs)')"
   ]
  },
  {
   "cell_type": "code",
   "execution_count": 31,
   "id": "5e518252",
   "metadata": {},
   "outputs": [
    {
     "name": "stdout",
     "output_type": "stream",
     "text": [
      "Number of outliers in sales channel code : 0\n",
      "Maximum outlier value : nan\n",
      "Minimum outlier value : nan\n"
     ]
    },
    {
     "data": {
      "image/png": "[encoded data removed]",
      "text/plain": [
       "<Figure size 432x288 with 1 Axes>"
      ]
     },
     "metadata": {
      "needs_background": "light"
     },
     "output_type": "display_data"
    }
   ],
   "source": [
    "outlier_sales_cd= finding_outliers(df2['sales channel code'])\n",
    "print('Number of outliers in sales channel code :',len(outlier_sales_cd))\n",
    "print('Maximum outlier value :',outlier_sales_cd.max())\n",
    "print('Minimum outlier value :',outlier_sales_cd.min())\n",
    "\n",
    "boxplot(df2,'sales channel code')"
   ]
  },
  {
   "cell_type": "code",
   "execution_count": 32,
   "id": "8cb1681a",
   "metadata": {},
   "outputs": [
    {
     "name": "stdout",
     "output_type": "stream",
     "text": [
      "Number of outliers in sales channel code : 0\n",
      "Maximum outlier value : nan\n",
      "Minimum outlier value : nan\n"
     ]
    },
    {
     "data": {
      "image/png": "[encoded data removed]",
      "text/plain": [
       "<Figure size 432x288 with 1 Axes>"
      ]
     },
     "metadata": {
      "needs_background": "light"
     },
     "output_type": "display_data"
    }
   ],
   "source": [
    "outlier_vintage= finding_outliers(df2['vintage'])\n",
    "print('Number of outliers in sales channel code :',len(outlier_vintage))\n",
    "print('Maximum outlier value :',outlier_vintage.max())\n",
    "print('Minimum outlier value :',outlier_vintage.min())\n",
    "\n",
    "boxplot(df2,'vintage')"
   ]
  },
  {
   "cell_type": "markdown",
   "id": "0b2cad03",
   "metadata": {},
   "source": [
    "### 2-B Replace all outlier values for numeric columns by mean."
   ]
  },
  {
   "cell_type": "code",
   "execution_count": 33,
   "id": "20d43cfe",
   "metadata": {},
   "outputs": [],
   "source": [
    "\n",
    "# Define function that replace numeric column by its mean value\n",
    "\n",
    "def replace_outlier(df):\n",
    "    q1 = df.quantile(0.25)\n",
    "    q3 = df.quantile(0.75)\n",
    "    iqr = q3-q1\n",
    "    upper = df[~(df>(q3+1.5*iqr))].max()\n",
    "    lower = df[~(df<(q1-1.5*iqr))].min()\n",
    "    df = np.where(df>upper,df.mean(),np.where(df<lower,df.mean(),df))\n",
    "    return df\n",
    "\n",
    "# only annual premium (in Rs) in customer policy dataset have outliers so we are replacing with its mean value\n",
    "df2['annual premium (in Rs)'] = replace_outlier(df2['annual premium (in Rs)'])"
   ]
  },
  {
   "cell_type": "markdown",
   "id": "af02c260",
   "metadata": {},
   "source": [
    "### 2-C Remove white spaces(leading and trailing)"
   ]
  },
  {
   "cell_type": "code",
   "execution_count": 35,
   "id": "0beeb2fc",
   "metadata": {
    "scrolled": true
   },
   "outputs": [
    {
     "data": {
      "text/html": [
       "<div>\n",
       "<style scoped>\n",
       "    .dataframe tbody tr th:only-of-type {\n",
       "        vertical-align: middle;\n",
       "    }\n",
       "\n",
       "    .dataframe tbody tr th {\n",
       "        vertical-align: top;\n",
       "    }\n",
       "\n",
       "    .dataframe thead th {\n",
       "        text-align: right;\n",
       "    }\n",
       "</style>\n",
       "<table border=\"1\" class=\"dataframe\">\n",
       "  <thead>\n",
       "    <tr style=\"text-align: right;\">\n",
       "      <th></th>\n",
       "      <th>customer_id</th>\n",
       "      <th>Gender</th>\n",
       "      <th>age</th>\n",
       "      <th>driving licence present</th>\n",
       "      <th>region code</th>\n",
       "      <th>previously insured</th>\n",
       "      <th>vehicle age</th>\n",
       "      <th>vehicle damage</th>\n",
       "    </tr>\n",
       "  </thead>\n",
       "  <tbody>\n",
       "    <tr>\n",
       "      <th>0</th>\n",
       "      <td>1.0</td>\n",
       "      <td>Male</td>\n",
       "      <td>44.0</td>\n",
       "      <td>1.0</td>\n",
       "      <td>28.0</td>\n",
       "      <td>0.0</td>\n",
       "      <td>&gt; 2 Years</td>\n",
       "      <td>Yes</td>\n",
       "    </tr>\n",
       "    <tr>\n",
       "      <th>1</th>\n",
       "      <td>2.0</td>\n",
       "      <td>Male</td>\n",
       "      <td>76.0</td>\n",
       "      <td>1.0</td>\n",
       "      <td>3.0</td>\n",
       "      <td>0.0</td>\n",
       "      <td>1-2 Year</td>\n",
       "      <td>No</td>\n",
       "    </tr>\n",
       "    <tr>\n",
       "      <th>2</th>\n",
       "      <td>3.0</td>\n",
       "      <td>Male</td>\n",
       "      <td>47.0</td>\n",
       "      <td>1.0</td>\n",
       "      <td>28.0</td>\n",
       "      <td>0.0</td>\n",
       "      <td>&gt; 2 Years</td>\n",
       "      <td>Yes</td>\n",
       "    </tr>\n",
       "    <tr>\n",
       "      <th>3</th>\n",
       "      <td>4.0</td>\n",
       "      <td>Male</td>\n",
       "      <td>21.0</td>\n",
       "      <td>1.0</td>\n",
       "      <td>11.0</td>\n",
       "      <td>1.0</td>\n",
       "      <td>&lt; 1 Year</td>\n",
       "      <td>No</td>\n",
       "    </tr>\n",
       "    <tr>\n",
       "      <th>4</th>\n",
       "      <td>5.0</td>\n",
       "      <td>Female</td>\n",
       "      <td>29.0</td>\n",
       "      <td>1.0</td>\n",
       "      <td>41.0</td>\n",
       "      <td>1.0</td>\n",
       "      <td>&lt; 1 Year</td>\n",
       "      <td>No</td>\n",
       "    </tr>\n",
       "  </tbody>\n",
       "</table>\n",
       "</div>"
      ],
      "text/plain": [
       "   customer_id  Gender   age  driving licence present  region code  \\\n",
       "0          1.0    Male  44.0                      1.0         28.0   \n",
       "1          2.0    Male  76.0                      1.0          3.0   \n",
       "2          3.0    Male  47.0                      1.0         28.0   \n",
       "3          4.0    Male  21.0                      1.0         11.0   \n",
       "4          5.0  Female  29.0                      1.0         41.0   \n",
       "\n",
       "   previously insured vehicle age vehicle damage  \n",
       "0                 0.0   > 2 Years            Yes  \n",
       "1                 0.0    1-2 Year             No  \n",
       "2                 0.0   > 2 Years            Yes  \n",
       "3                 1.0    < 1 Year             No  \n",
       "4                 1.0    < 1 Year             No  "
      ]
     },
     "execution_count": 35,
     "metadata": {},
     "output_type": "execute_result"
    }
   ],
   "source": [
    "\n",
    "# ------ customer_detail dataset ---------#\n",
    "df1[\"Gender\"]=df1[\"Gender\"].str.strip()\n",
    "df1[\"vehicle age\"]=df1[\"vehicle age\"].str.strip()\n",
    "df1[\"vehicle damage\"]=df1[\"vehicle damage\"].str.strip()\n",
    "\n",
    "df1.head()\n",
    "# ------ customer_policy dataset ---------#\n",
    "# This data set has all values of float type so no need to remove white space"
   ]
  },
  {
   "cell_type": "code",
   "execution_count": 36,
   "id": "835be3e3",
   "metadata": {},
   "outputs": [
    {
     "data": {
      "text/html": [
       "<div>\n",
       "<style scoped>\n",
       "    .dataframe tbody tr th:only-of-type {\n",
       "        vertical-align: middle;\n",
       "    }\n",
       "\n",
       "    .dataframe tbody tr th {\n",
       "        vertical-align: top;\n",
       "    }\n",
       "\n",
       "    .dataframe thead th {\n",
       "        text-align: right;\n",
       "    }\n",
       "</style>\n",
       "<table border=\"1\" class=\"dataframe\">\n",
       "  <thead>\n",
       "    <tr style=\"text-align: right;\">\n",
       "      <th></th>\n",
       "      <th>customer_id</th>\n",
       "      <th>annual premium (in Rs)</th>\n",
       "      <th>sales channel code</th>\n",
       "      <th>vintage</th>\n",
       "      <th>response</th>\n",
       "    </tr>\n",
       "  </thead>\n",
       "  <tbody>\n",
       "    <tr>\n",
       "      <th>0</th>\n",
       "      <td>1.0</td>\n",
       "      <td>40454.0</td>\n",
       "      <td>26.0</td>\n",
       "      <td>217.0</td>\n",
       "      <td>1.0</td>\n",
       "    </tr>\n",
       "    <tr>\n",
       "      <th>1</th>\n",
       "      <td>2.0</td>\n",
       "      <td>33536.0</td>\n",
       "      <td>26.0</td>\n",
       "      <td>183.0</td>\n",
       "      <td>0.0</td>\n",
       "    </tr>\n",
       "    <tr>\n",
       "      <th>2</th>\n",
       "      <td>3.0</td>\n",
       "      <td>38294.0</td>\n",
       "      <td>26.0</td>\n",
       "      <td>27.0</td>\n",
       "      <td>1.0</td>\n",
       "    </tr>\n",
       "    <tr>\n",
       "      <th>3</th>\n",
       "      <td>4.0</td>\n",
       "      <td>28619.0</td>\n",
       "      <td>152.0</td>\n",
       "      <td>203.0</td>\n",
       "      <td>0.0</td>\n",
       "    </tr>\n",
       "    <tr>\n",
       "      <th>4</th>\n",
       "      <td>5.0</td>\n",
       "      <td>27496.0</td>\n",
       "      <td>152.0</td>\n",
       "      <td>39.0</td>\n",
       "      <td>0.0</td>\n",
       "    </tr>\n",
       "  </tbody>\n",
       "</table>\n",
       "</div>"
      ],
      "text/plain": [
       "   customer_id  annual premium (in Rs)  sales channel code  vintage  response\n",
       "0          1.0                 40454.0                26.0    217.0       1.0\n",
       "1          2.0                 33536.0                26.0    183.0       0.0\n",
       "2          3.0                 38294.0                26.0     27.0       1.0\n",
       "3          4.0                 28619.0               152.0    203.0       0.0\n",
       "4          5.0                 27496.0               152.0     39.0       0.0"
      ]
     },
     "execution_count": 36,
     "metadata": {},
     "output_type": "execute_result"
    }
   ],
   "source": [
    "df2.head(5)"
   ]
  },
  {
   "cell_type": "markdown",
   "id": "e5e2d87b",
   "metadata": {},
   "source": [
    "### 2-D: case correction(lower or upper, any one)"
   ]
  },
  {
   "cell_type": "code",
   "execution_count": 37,
   "id": "491ef697",
   "metadata": {},
   "outputs": [
    {
     "data": {
      "text/html": [
       "<div>\n",
       "<style scoped>\n",
       "    .dataframe tbody tr th:only-of-type {\n",
       "        vertical-align: middle;\n",
       "    }\n",
       "\n",
       "    .dataframe tbody tr th {\n",
       "        vertical-align: top;\n",
       "    }\n",
       "\n",
       "    .dataframe thead th {\n",
       "        text-align: right;\n",
       "    }\n",
       "</style>\n",
       "<table border=\"1\" class=\"dataframe\">\n",
       "  <thead>\n",
       "    <tr style=\"text-align: right;\">\n",
       "      <th></th>\n",
       "      <th>customer_id</th>\n",
       "      <th>Gender</th>\n",
       "      <th>age</th>\n",
       "      <th>driving licence present</th>\n",
       "      <th>region code</th>\n",
       "      <th>previously insured</th>\n",
       "      <th>vehicle age</th>\n",
       "      <th>vehicle damage</th>\n",
       "    </tr>\n",
       "  </thead>\n",
       "  <tbody>\n",
       "    <tr>\n",
       "      <th>0</th>\n",
       "      <td>1.0</td>\n",
       "      <td>MALE</td>\n",
       "      <td>44.0</td>\n",
       "      <td>1.0</td>\n",
       "      <td>28.0</td>\n",
       "      <td>0.0</td>\n",
       "      <td>&gt; 2 YEARS</td>\n",
       "      <td>YES</td>\n",
       "    </tr>\n",
       "    <tr>\n",
       "      <th>1</th>\n",
       "      <td>2.0</td>\n",
       "      <td>MALE</td>\n",
       "      <td>76.0</td>\n",
       "      <td>1.0</td>\n",
       "      <td>3.0</td>\n",
       "      <td>0.0</td>\n",
       "      <td>1-2 YEAR</td>\n",
       "      <td>NO</td>\n",
       "    </tr>\n",
       "    <tr>\n",
       "      <th>2</th>\n",
       "      <td>3.0</td>\n",
       "      <td>MALE</td>\n",
       "      <td>47.0</td>\n",
       "      <td>1.0</td>\n",
       "      <td>28.0</td>\n",
       "      <td>0.0</td>\n",
       "      <td>&gt; 2 YEARS</td>\n",
       "      <td>YES</td>\n",
       "    </tr>\n",
       "    <tr>\n",
       "      <th>3</th>\n",
       "      <td>4.0</td>\n",
       "      <td>MALE</td>\n",
       "      <td>21.0</td>\n",
       "      <td>1.0</td>\n",
       "      <td>11.0</td>\n",
       "      <td>1.0</td>\n",
       "      <td>&lt; 1 YEAR</td>\n",
       "      <td>NO</td>\n",
       "    </tr>\n",
       "    <tr>\n",
       "      <th>4</th>\n",
       "      <td>5.0</td>\n",
       "      <td>FEMALE</td>\n",
       "      <td>29.0</td>\n",
       "      <td>1.0</td>\n",
       "      <td>41.0</td>\n",
       "      <td>1.0</td>\n",
       "      <td>&lt; 1 YEAR</td>\n",
       "      <td>NO</td>\n",
       "    </tr>\n",
       "  </tbody>\n",
       "</table>\n",
       "</div>"
      ],
      "text/plain": [
       "   customer_id  Gender   age  driving licence present  region code  \\\n",
       "0          1.0    MALE  44.0                      1.0         28.0   \n",
       "1          2.0    MALE  76.0                      1.0          3.0   \n",
       "2          3.0    MALE  47.0                      1.0         28.0   \n",
       "3          4.0    MALE  21.0                      1.0         11.0   \n",
       "4          5.0  FEMALE  29.0                      1.0         41.0   \n",
       "\n",
       "   previously insured vehicle age vehicle damage  \n",
       "0                 0.0   > 2 YEARS            YES  \n",
       "1                 0.0    1-2 YEAR             NO  \n",
       "2                 0.0   > 2 YEARS            YES  \n",
       "3                 1.0    < 1 YEAR             NO  \n",
       "4                 1.0    < 1 YEAR             NO  "
      ]
     },
     "execution_count": 37,
     "metadata": {},
     "output_type": "execute_result"
    }
   ],
   "source": [
    "\n",
    "# ------ customer_detail dataset ---------#\n",
    "df1[\"Gender\"]=df1[\"Gender\"].str.upper()\n",
    "df1[\"vehicle age\"]=df1[\"vehicle age\"].str.upper()\n",
    "df1[\"vehicle damage\"]=df1[\"vehicle damage\"].str.upper()\n",
    "\n",
    "df1.head()\n",
    "# ------ customer_policy dataset ---------#\n",
    "# In this data set values are of float type so we are not concern about case correction"
   ]
  },
  {
   "cell_type": "markdown",
   "id": "ade441cc",
   "metadata": {},
   "source": [
    "### 2-E Convert nominal data (categorical) into dummies"
   ]
  },
  {
   "cell_type": "code",
   "execution_count": 38,
   "id": "8ba2fb30",
   "metadata": {},
   "outputs": [
    {
     "data": {
      "text/html": [
       "<div>\n",
       "<style scoped>\n",
       "    .dataframe tbody tr th:only-of-type {\n",
       "        vertical-align: middle;\n",
       "    }\n",
       "\n",
       "    .dataframe tbody tr th {\n",
       "        vertical-align: top;\n",
       "    }\n",
       "\n",
       "    .dataframe thead th {\n",
       "        text-align: right;\n",
       "    }\n",
       "</style>\n",
       "<table border=\"1\" class=\"dataframe\">\n",
       "  <thead>\n",
       "    <tr style=\"text-align: right;\">\n",
       "      <th></th>\n",
       "      <th>NO</th>\n",
       "      <th>YES</th>\n",
       "    </tr>\n",
       "  </thead>\n",
       "  <tbody>\n",
       "    <tr>\n",
       "      <th>0</th>\n",
       "      <td>0</td>\n",
       "      <td>1</td>\n",
       "    </tr>\n",
       "    <tr>\n",
       "      <th>1</th>\n",
       "      <td>1</td>\n",
       "      <td>0</td>\n",
       "    </tr>\n",
       "    <tr>\n",
       "      <th>2</th>\n",
       "      <td>0</td>\n",
       "      <td>1</td>\n",
       "    </tr>\n",
       "    <tr>\n",
       "      <th>3</th>\n",
       "      <td>1</td>\n",
       "      <td>0</td>\n",
       "    </tr>\n",
       "    <tr>\n",
       "      <th>4</th>\n",
       "      <td>1</td>\n",
       "      <td>0</td>\n",
       "    </tr>\n",
       "  </tbody>\n",
       "</table>\n",
       "</div>"
      ],
      "text/plain": [
       "   NO  YES\n",
       "0   0    1\n",
       "1   1    0\n",
       "2   0    1\n",
       "3   1    0\n",
       "4   1    0"
      ]
     },
     "execution_count": 38,
     "metadata": {},
     "output_type": "execute_result"
    }
   ],
   "source": [
    " \n",
    "# Dummy variable: It is also called indicator varialbe that are used to label categories.so that feature can be used in machine learning application\n",
    "\n",
    "# ------ customer_detail dataset ---------#\n",
    "#In this data set feature vehicle damage has categorical value(YES/NO) \n",
    "# so we are converting (YES/NO)----->(1/0)\n",
    "\n",
    "dummy_var = pd.get_dummies(df1[\"vehicle damage\"]) \n",
    "\n",
    "dummy_var.head()\n"
   ]
  },
  {
   "cell_type": "code",
   "execution_count": 39,
   "id": "a9900d62",
   "metadata": {},
   "outputs": [
    {
     "data": {
      "text/html": [
       "<div>\n",
       "<style scoped>\n",
       "    .dataframe tbody tr th:only-of-type {\n",
       "        vertical-align: middle;\n",
       "    }\n",
       "\n",
       "    .dataframe tbody tr th {\n",
       "        vertical-align: top;\n",
       "    }\n",
       "\n",
       "    .dataframe thead th {\n",
       "        text-align: right;\n",
       "    }\n",
       "</style>\n",
       "<table border=\"1\" class=\"dataframe\">\n",
       "  <thead>\n",
       "    <tr style=\"text-align: right;\">\n",
       "      <th></th>\n",
       "      <th>vehicle-damage-No</th>\n",
       "      <th>vehicle-damage-Yes</th>\n",
       "    </tr>\n",
       "  </thead>\n",
       "  <tbody>\n",
       "    <tr>\n",
       "      <th>0</th>\n",
       "      <td>0</td>\n",
       "      <td>1</td>\n",
       "    </tr>\n",
       "    <tr>\n",
       "      <th>1</th>\n",
       "      <td>1</td>\n",
       "      <td>0</td>\n",
       "    </tr>\n",
       "    <tr>\n",
       "      <th>2</th>\n",
       "      <td>0</td>\n",
       "      <td>1</td>\n",
       "    </tr>\n",
       "    <tr>\n",
       "      <th>3</th>\n",
       "      <td>1</td>\n",
       "      <td>0</td>\n",
       "    </tr>\n",
       "    <tr>\n",
       "      <th>4</th>\n",
       "      <td>1</td>\n",
       "      <td>0</td>\n",
       "    </tr>\n",
       "  </tbody>\n",
       "</table>\n",
       "</div>"
      ],
      "text/plain": [
       "   vehicle-damage-No  vehicle-damage-Yes\n",
       "0                  0                   1\n",
       "1                  1                   0\n",
       "2                  0                   1\n",
       "3                  1                   0\n",
       "4                  1                   0"
      ]
     },
     "execution_count": 39,
     "metadata": {},
     "output_type": "execute_result"
    }
   ],
   "source": [
    "# changing column name for dummy var\n",
    "dummy_var.rename(columns={'NO':'vehicle-damage-No', 'YES':'vehicle-damage-Yes'}, inplace=True)\n",
    "\n",
    "dummy_var.head()"
   ]
  },
  {
   "cell_type": "code",
   "execution_count": 40,
   "id": "328405e8",
   "metadata": {},
   "outputs": [],
   "source": [
    "# Drop vehicle damage from original data set df1\n",
    "df1.drop('vehicle damage', axis = 1, inplace=True)\n"
   ]
  },
  {
   "cell_type": "code",
   "execution_count": 41,
   "id": "75a7b10f",
   "metadata": {},
   "outputs": [
    {
     "data": {
      "text/html": [
       "<div>\n",
       "<style scoped>\n",
       "    .dataframe tbody tr th:only-of-type {\n",
       "        vertical-align: middle;\n",
       "    }\n",
       "\n",
       "    .dataframe tbody tr th {\n",
       "        vertical-align: top;\n",
       "    }\n",
       "\n",
       "    .dataframe thead th {\n",
       "        text-align: right;\n",
       "    }\n",
       "</style>\n",
       "<table border=\"1\" class=\"dataframe\">\n",
       "  <thead>\n",
       "    <tr style=\"text-align: right;\">\n",
       "      <th></th>\n",
       "      <th>customer_id</th>\n",
       "      <th>Gender</th>\n",
       "      <th>age</th>\n",
       "      <th>driving licence present</th>\n",
       "      <th>region code</th>\n",
       "      <th>previously insured</th>\n",
       "      <th>vehicle age</th>\n",
       "      <th>vehicle-damage-No</th>\n",
       "      <th>vehicle-damage-Yes</th>\n",
       "    </tr>\n",
       "  </thead>\n",
       "  <tbody>\n",
       "    <tr>\n",
       "      <th>0</th>\n",
       "      <td>1.0</td>\n",
       "      <td>MALE</td>\n",
       "      <td>44.0</td>\n",
       "      <td>1.0</td>\n",
       "      <td>28.0</td>\n",
       "      <td>0.0</td>\n",
       "      <td>&gt; 2 YEARS</td>\n",
       "      <td>0</td>\n",
       "      <td>1</td>\n",
       "    </tr>\n",
       "    <tr>\n",
       "      <th>1</th>\n",
       "      <td>2.0</td>\n",
       "      <td>MALE</td>\n",
       "      <td>76.0</td>\n",
       "      <td>1.0</td>\n",
       "      <td>3.0</td>\n",
       "      <td>0.0</td>\n",
       "      <td>1-2 YEAR</td>\n",
       "      <td>1</td>\n",
       "      <td>0</td>\n",
       "    </tr>\n",
       "    <tr>\n",
       "      <th>2</th>\n",
       "      <td>3.0</td>\n",
       "      <td>MALE</td>\n",
       "      <td>47.0</td>\n",
       "      <td>1.0</td>\n",
       "      <td>28.0</td>\n",
       "      <td>0.0</td>\n",
       "      <td>&gt; 2 YEARS</td>\n",
       "      <td>0</td>\n",
       "      <td>1</td>\n",
       "    </tr>\n",
       "    <tr>\n",
       "      <th>3</th>\n",
       "      <td>4.0</td>\n",
       "      <td>MALE</td>\n",
       "      <td>21.0</td>\n",
       "      <td>1.0</td>\n",
       "      <td>11.0</td>\n",
       "      <td>1.0</td>\n",
       "      <td>&lt; 1 YEAR</td>\n",
       "      <td>1</td>\n",
       "      <td>0</td>\n",
       "    </tr>\n",
       "    <tr>\n",
       "      <th>4</th>\n",
       "      <td>5.0</td>\n",
       "      <td>FEMALE</td>\n",
       "      <td>29.0</td>\n",
       "      <td>1.0</td>\n",
       "      <td>41.0</td>\n",
       "      <td>1.0</td>\n",
       "      <td>&lt; 1 YEAR</td>\n",
       "      <td>1</td>\n",
       "      <td>0</td>\n",
       "    </tr>\n",
       "  </tbody>\n",
       "</table>\n",
       "</div>"
      ],
      "text/plain": [
       "   customer_id  Gender   age  driving licence present  region code  \\\n",
       "0          1.0    MALE  44.0                      1.0         28.0   \n",
       "1          2.0    MALE  76.0                      1.0          3.0   \n",
       "2          3.0    MALE  47.0                      1.0         28.0   \n",
       "3          4.0    MALE  21.0                      1.0         11.0   \n",
       "4          5.0  FEMALE  29.0                      1.0         41.0   \n",
       "\n",
       "   previously insured vehicle age  vehicle-damage-No  vehicle-damage-Yes  \n",
       "0                 0.0   > 2 YEARS                  0                   1  \n",
       "1                 0.0    1-2 YEAR                  1                   0  \n",
       "2                 0.0   > 2 YEARS                  0                   1  \n",
       "3                 1.0    < 1 YEAR                  1                   0  \n",
       "4                 1.0    < 1 YEAR                  1                   0  "
      ]
     },
     "execution_count": 41,
     "metadata": {},
     "output_type": "execute_result"
    }
   ],
   "source": [
    "# Merge df1 with dummy var data frame using concat method\n",
    "df1_new=pd.concat([df1,dummy_var],axis=1)\n",
    "df1_new.head()"
   ]
  },
  {
   "cell_type": "markdown",
   "id": "a7731e0b",
   "metadata": {},
   "source": [
    "### 2-F:  Drop Duplicates (duplicated rows)"
   ]
  },
  {
   "cell_type": "code",
   "execution_count": 42,
   "id": "18468058",
   "metadata": {},
   "outputs": [],
   "source": [
    "\n",
    "# ------ customer_detail dataset ---------#\n",
    "df1.drop_duplicates(inplace=True)\n",
    "\n",
    "# ------ customer_policy dataset ---------#\n",
    "df2.drop_duplicates(inplace=True)\n"
   ]
  },
  {
   "cell_type": "markdown",
   "id": "3809c30a",
   "metadata": {},
   "source": [
    "## 3.Create a Master table for future use. Join the customer table and customer_policy table to get a master table using customer_id in both tables"
   ]
  },
  {
   "cell_type": "code",
   "execution_count": 43,
   "id": "608f5803",
   "metadata": {},
   "outputs": [
    {
     "data": {
      "text/html": [
       "<div>\n",
       "<style scoped>\n",
       "    .dataframe tbody tr th:only-of-type {\n",
       "        vertical-align: middle;\n",
       "    }\n",
       "\n",
       "    .dataframe tbody tr th {\n",
       "        vertical-align: top;\n",
       "    }\n",
       "\n",
       "    .dataframe thead th {\n",
       "        text-align: right;\n",
       "    }\n",
       "</style>\n",
       "<table border=\"1\" class=\"dataframe\">\n",
       "  <thead>\n",
       "    <tr style=\"text-align: right;\">\n",
       "      <th></th>\n",
       "      <th>customer_id</th>\n",
       "      <th>Gender</th>\n",
       "      <th>age</th>\n",
       "      <th>driving licence present</th>\n",
       "      <th>region code</th>\n",
       "      <th>previously insured</th>\n",
       "      <th>vehicle age</th>\n",
       "      <th>vehicle-damage-No</th>\n",
       "      <th>vehicle-damage-Yes</th>\n",
       "      <th>annual premium (in Rs)</th>\n",
       "      <th>sales channel code</th>\n",
       "      <th>vintage</th>\n",
       "      <th>response</th>\n",
       "    </tr>\n",
       "  </thead>\n",
       "  <tbody>\n",
       "    <tr>\n",
       "      <th>0</th>\n",
       "      <td>1.0</td>\n",
       "      <td>MALE</td>\n",
       "      <td>44.0</td>\n",
       "      <td>1.0</td>\n",
       "      <td>28.0</td>\n",
       "      <td>0.0</td>\n",
       "      <td>&gt; 2 YEARS</td>\n",
       "      <td>0</td>\n",
       "      <td>1</td>\n",
       "      <td>40454.0</td>\n",
       "      <td>26.0</td>\n",
       "      <td>217.0</td>\n",
       "      <td>1.0</td>\n",
       "    </tr>\n",
       "    <tr>\n",
       "      <th>1</th>\n",
       "      <td>2.0</td>\n",
       "      <td>MALE</td>\n",
       "      <td>76.0</td>\n",
       "      <td>1.0</td>\n",
       "      <td>3.0</td>\n",
       "      <td>0.0</td>\n",
       "      <td>1-2 YEAR</td>\n",
       "      <td>1</td>\n",
       "      <td>0</td>\n",
       "      <td>33536.0</td>\n",
       "      <td>26.0</td>\n",
       "      <td>183.0</td>\n",
       "      <td>0.0</td>\n",
       "    </tr>\n",
       "    <tr>\n",
       "      <th>2</th>\n",
       "      <td>3.0</td>\n",
       "      <td>MALE</td>\n",
       "      <td>47.0</td>\n",
       "      <td>1.0</td>\n",
       "      <td>28.0</td>\n",
       "      <td>0.0</td>\n",
       "      <td>&gt; 2 YEARS</td>\n",
       "      <td>0</td>\n",
       "      <td>1</td>\n",
       "      <td>38294.0</td>\n",
       "      <td>26.0</td>\n",
       "      <td>27.0</td>\n",
       "      <td>1.0</td>\n",
       "    </tr>\n",
       "    <tr>\n",
       "      <th>3</th>\n",
       "      <td>4.0</td>\n",
       "      <td>MALE</td>\n",
       "      <td>21.0</td>\n",
       "      <td>1.0</td>\n",
       "      <td>11.0</td>\n",
       "      <td>1.0</td>\n",
       "      <td>&lt; 1 YEAR</td>\n",
       "      <td>1</td>\n",
       "      <td>0</td>\n",
       "      <td>28619.0</td>\n",
       "      <td>152.0</td>\n",
       "      <td>203.0</td>\n",
       "      <td>0.0</td>\n",
       "    </tr>\n",
       "    <tr>\n",
       "      <th>4</th>\n",
       "      <td>5.0</td>\n",
       "      <td>FEMALE</td>\n",
       "      <td>29.0</td>\n",
       "      <td>1.0</td>\n",
       "      <td>41.0</td>\n",
       "      <td>1.0</td>\n",
       "      <td>&lt; 1 YEAR</td>\n",
       "      <td>1</td>\n",
       "      <td>0</td>\n",
       "      <td>27496.0</td>\n",
       "      <td>152.0</td>\n",
       "      <td>39.0</td>\n",
       "      <td>0.0</td>\n",
       "    </tr>\n",
       "    <tr>\n",
       "      <th>...</th>\n",
       "      <td>...</td>\n",
       "      <td>...</td>\n",
       "      <td>...</td>\n",
       "      <td>...</td>\n",
       "      <td>...</td>\n",
       "      <td>...</td>\n",
       "      <td>...</td>\n",
       "      <td>...</td>\n",
       "      <td>...</td>\n",
       "      <td>...</td>\n",
       "      <td>...</td>\n",
       "      <td>...</td>\n",
       "      <td>...</td>\n",
       "    </tr>\n",
       "    <tr>\n",
       "      <th>380331</th>\n",
       "      <td>381105.0</td>\n",
       "      <td>MALE</td>\n",
       "      <td>74.0</td>\n",
       "      <td>1.0</td>\n",
       "      <td>26.0</td>\n",
       "      <td>1.0</td>\n",
       "      <td>1-2 YEAR</td>\n",
       "      <td>1</td>\n",
       "      <td>0</td>\n",
       "      <td>30170.0</td>\n",
       "      <td>26.0</td>\n",
       "      <td>88.0</td>\n",
       "      <td>0.0</td>\n",
       "    </tr>\n",
       "    <tr>\n",
       "      <th>380332</th>\n",
       "      <td>381106.0</td>\n",
       "      <td>MALE</td>\n",
       "      <td>30.0</td>\n",
       "      <td>1.0</td>\n",
       "      <td>37.0</td>\n",
       "      <td>1.0</td>\n",
       "      <td>&lt; 1 YEAR</td>\n",
       "      <td>1</td>\n",
       "      <td>0</td>\n",
       "      <td>40016.0</td>\n",
       "      <td>152.0</td>\n",
       "      <td>131.0</td>\n",
       "      <td>0.0</td>\n",
       "    </tr>\n",
       "    <tr>\n",
       "      <th>380333</th>\n",
       "      <td>381107.0</td>\n",
       "      <td>MALE</td>\n",
       "      <td>21.0</td>\n",
       "      <td>1.0</td>\n",
       "      <td>30.0</td>\n",
       "      <td>1.0</td>\n",
       "      <td>&lt; 1 YEAR</td>\n",
       "      <td>1</td>\n",
       "      <td>0</td>\n",
       "      <td>35118.0</td>\n",
       "      <td>160.0</td>\n",
       "      <td>161.0</td>\n",
       "      <td>0.0</td>\n",
       "    </tr>\n",
       "    <tr>\n",
       "      <th>380334</th>\n",
       "      <td>381108.0</td>\n",
       "      <td>FEMALE</td>\n",
       "      <td>68.0</td>\n",
       "      <td>1.0</td>\n",
       "      <td>14.0</td>\n",
       "      <td>0.0</td>\n",
       "      <td>&gt; 2 YEARS</td>\n",
       "      <td>0</td>\n",
       "      <td>1</td>\n",
       "      <td>44617.0</td>\n",
       "      <td>124.0</td>\n",
       "      <td>74.0</td>\n",
       "      <td>0.0</td>\n",
       "    </tr>\n",
       "    <tr>\n",
       "      <th>380335</th>\n",
       "      <td>381109.0</td>\n",
       "      <td>MALE</td>\n",
       "      <td>46.0</td>\n",
       "      <td>1.0</td>\n",
       "      <td>29.0</td>\n",
       "      <td>0.0</td>\n",
       "      <td>1-2 YEAR</td>\n",
       "      <td>1</td>\n",
       "      <td>0</td>\n",
       "      <td>41777.0</td>\n",
       "      <td>26.0</td>\n",
       "      <td>237.0</td>\n",
       "      <td>0.0</td>\n",
       "    </tr>\n",
       "  </tbody>\n",
       "</table>\n",
       "<p>380336 rows × 13 columns</p>\n",
       "</div>"
      ],
      "text/plain": [
       "        customer_id  Gender   age  driving licence present  region code  \\\n",
       "0               1.0    MALE  44.0                      1.0         28.0   \n",
       "1               2.0    MALE  76.0                      1.0          3.0   \n",
       "2               3.0    MALE  47.0                      1.0         28.0   \n",
       "3               4.0    MALE  21.0                      1.0         11.0   \n",
       "4               5.0  FEMALE  29.0                      1.0         41.0   \n",
       "...             ...     ...   ...                      ...          ...   \n",
       "380331     381105.0    MALE  74.0                      1.0         26.0   \n",
       "380332     381106.0    MALE  30.0                      1.0         37.0   \n",
       "380333     381107.0    MALE  21.0                      1.0         30.0   \n",
       "380334     381108.0  FEMALE  68.0                      1.0         14.0   \n",
       "380335     381109.0    MALE  46.0                      1.0         29.0   \n",
       "\n",
       "        previously insured vehicle age  vehicle-damage-No  vehicle-damage-Yes  \\\n",
       "0                      0.0   > 2 YEARS                  0                   1   \n",
       "1                      0.0    1-2 YEAR                  1                   0   \n",
       "2                      0.0   > 2 YEARS                  0                   1   \n",
       "3                      1.0    < 1 YEAR                  1                   0   \n",
       "4                      1.0    < 1 YEAR                  1                   0   \n",
       "...                    ...         ...                ...                 ...   \n",
       "380331                 1.0    1-2 YEAR                  1                   0   \n",
       "380332                 1.0    < 1 YEAR                  1                   0   \n",
       "380333                 1.0    < 1 YEAR                  1                   0   \n",
       "380334                 0.0   > 2 YEARS                  0                   1   \n",
       "380335                 0.0    1-2 YEAR                  1                   0   \n",
       "\n",
       "        annual premium (in Rs)  sales channel code  vintage  response  \n",
       "0                      40454.0                26.0    217.0       1.0  \n",
       "1                      33536.0                26.0    183.0       0.0  \n",
       "2                      38294.0                26.0     27.0       1.0  \n",
       "3                      28619.0               152.0    203.0       0.0  \n",
       "4                      27496.0               152.0     39.0       0.0  \n",
       "...                        ...                 ...      ...       ...  \n",
       "380331                 30170.0                26.0     88.0       0.0  \n",
       "380332                 40016.0               152.0    131.0       0.0  \n",
       "380333                 35118.0               160.0    161.0       0.0  \n",
       "380334                 44617.0               124.0     74.0       0.0  \n",
       "380335                 41777.0                26.0    237.0       0.0  \n",
       "\n",
       "[380336 rows x 13 columns]"
      ]
     },
     "execution_count": 43,
     "metadata": {},
     "output_type": "execute_result"
    }
   ],
   "source": [
    "master_data = pd.merge(df1_new,df2,on='customer_id')\n",
    "\n",
    "master_data"
   ]
  },
  {
   "cell_type": "markdown",
   "id": "dc019418",
   "metadata": {},
   "source": [
    "## 4. Company needs some important information from the master table to make decisions for future growth.They needs following information:"
   ]
  },
  {
   "cell_type": "markdown",
   "id": "e4cf1440",
   "metadata": {},
   "source": [
    "### 4-A Gender wise average annual premium"
   ]
  },
  {
   "cell_type": "code",
   "execution_count": 44,
   "id": "bfa74f26",
   "metadata": {},
   "outputs": [
    {
     "name": "stdout",
     "output_type": "stream",
     "text": [
      "Gender\n",
      "FEMALE    29273.474247\n",
      "MALE      29323.099677\n",
      "Name: annual premium (in Rs), dtype: float64\n"
     ]
    },
    {
     "data": {
      "text/plain": [
       "<AxesSubplot:title={'center':'Gender vs average annual premium'}, xlabel='Gender'>"
      ]
     },
     "execution_count": 44,
     "metadata": {},
     "output_type": "execute_result"
    },
    {
     "data": {
      "image/png": "[encoded data removed]",
      "text/plain": [
       "<Figure size 432x288 with 1 Axes>"
      ]
     },
     "metadata": {
      "needs_background": "light"
     },
     "output_type": "display_data"
    }
   ],
   "source": [
    "\n",
    "gender_data = master_data.groupby('Gender')['annual premium (in Rs)'].mean()\n",
    "\n",
    "print(gender_data)\n",
    "\n",
    "# Bar plot \n",
    "gender_data.plot.bar(title='Gender vs average annual premium')\n"
   ]
  },
  {
   "cell_type": "markdown",
   "id": "fe635c30",
   "metadata": {},
   "source": [
    "### 4-B Age wise average annual premium"
   ]
  },
  {
   "cell_type": "code",
   "execution_count": 45,
   "id": "41147b32",
   "metadata": {},
   "outputs": [
    {
     "name": "stdout",
     "output_type": "stream",
     "text": [
      "age\n",
      "20.0    26342.073517\n",
      "21.0    29751.791916\n",
      "22.0    29946.848634\n",
      "23.0    29838.344763\n",
      "24.0    30125.557096\n",
      "            ...     \n",
      "81.0    29287.910702\n",
      "82.0    36480.586199\n",
      "83.0    28995.818172\n",
      "84.0    35440.818182\n",
      "85.0    26637.454525\n",
      "Name: annual premium (in Rs), Length: 67, dtype: float64\n"
     ]
    },
    {
     "data": {
      "text/plain": [
       "<AxesSubplot:title={'center':'age vs average annual premium'}, xlabel='age'>"
      ]
     },
     "execution_count": 45,
     "metadata": {},
     "output_type": "execute_result"
    },
    {
     "data": {
      "image/png": "[encoded data removed]",
      "text/plain": [
       "<Figure size 432x288 with 1 Axes>"
      ]
     },
     "metadata": {
      "needs_background": "light"
     },
     "output_type": "display_data"
    }
   ],
   "source": [
    "\n",
    "age_data = master_data.groupby('age')['annual premium (in Rs)'].mean()\n",
    "print(age_data)\n",
    "\n",
    "# Bar plot \n",
    "age_data.plot.bar(title='age vs average annual premium',width=0.6)\n",
    "\n"
   ]
  },
  {
   "cell_type": "markdown",
   "id": "5757192c",
   "metadata": {},
   "source": [
    "### 4-C: Is your data balanced between the genders?"
   ]
  },
  {
   "cell_type": "code",
   "execution_count": 46,
   "id": "8ecb5b77",
   "metadata": {},
   "outputs": [
    {
     "data": {
      "text/html": [
       "<div>\n",
       "<style scoped>\n",
       "    .dataframe tbody tr th:only-of-type {\n",
       "        vertical-align: middle;\n",
       "    }\n",
       "\n",
       "    .dataframe tbody tr th {\n",
       "        vertical-align: top;\n",
       "    }\n",
       "\n",
       "    .dataframe thead th {\n",
       "        text-align: right;\n",
       "    }\n",
       "</style>\n",
       "<table border=\"1\" class=\"dataframe\">\n",
       "  <thead>\n",
       "    <tr style=\"text-align: right;\">\n",
       "      <th></th>\n",
       "      <th>customer_id</th>\n",
       "      <th>age</th>\n",
       "      <th>driving licence present</th>\n",
       "      <th>region code</th>\n",
       "      <th>previously insured</th>\n",
       "      <th>vehicle age</th>\n",
       "      <th>vehicle-damage-No</th>\n",
       "      <th>vehicle-damage-Yes</th>\n",
       "      <th>annual premium (in Rs)</th>\n",
       "      <th>sales channel code</th>\n",
       "      <th>vintage</th>\n",
       "      <th>response</th>\n",
       "    </tr>\n",
       "    <tr>\n",
       "      <th>Gender</th>\n",
       "      <th></th>\n",
       "      <th></th>\n",
       "      <th></th>\n",
       "      <th></th>\n",
       "      <th></th>\n",
       "      <th></th>\n",
       "      <th></th>\n",
       "      <th></th>\n",
       "      <th></th>\n",
       "      <th></th>\n",
       "      <th></th>\n",
       "      <th></th>\n",
       "    </tr>\n",
       "  </thead>\n",
       "  <tbody>\n",
       "    <tr>\n",
       "      <th>FEMALE</th>\n",
       "      <td>174485</td>\n",
       "      <td>174485</td>\n",
       "      <td>174485</td>\n",
       "      <td>174485</td>\n",
       "      <td>174485</td>\n",
       "      <td>174485</td>\n",
       "      <td>174485</td>\n",
       "      <td>174485</td>\n",
       "      <td>174485</td>\n",
       "      <td>174485</td>\n",
       "      <td>174485</td>\n",
       "      <td>174485</td>\n",
       "    </tr>\n",
       "    <tr>\n",
       "      <th>MALE</th>\n",
       "      <td>205851</td>\n",
       "      <td>205851</td>\n",
       "      <td>205851</td>\n",
       "      <td>205851</td>\n",
       "      <td>205851</td>\n",
       "      <td>205851</td>\n",
       "      <td>205851</td>\n",
       "      <td>205851</td>\n",
       "      <td>205851</td>\n",
       "      <td>205851</td>\n",
       "      <td>205851</td>\n",
       "      <td>205851</td>\n",
       "    </tr>\n",
       "  </tbody>\n",
       "</table>\n",
       "</div>"
      ],
      "text/plain": [
       "        customer_id     age  driving licence present  region code  \\\n",
       "Gender                                                              \n",
       "FEMALE       174485  174485                   174485       174485   \n",
       "MALE         205851  205851                   205851       205851   \n",
       "\n",
       "        previously insured  vehicle age  vehicle-damage-No  \\\n",
       "Gender                                                       \n",
       "FEMALE              174485       174485             174485   \n",
       "MALE                205851       205851             205851   \n",
       "\n",
       "        vehicle-damage-Yes  annual premium (in Rs)  sales channel code  \\\n",
       "Gender                                                                   \n",
       "FEMALE              174485                  174485              174485   \n",
       "MALE                205851                  205851              205851   \n",
       "\n",
       "        vintage  response  \n",
       "Gender                     \n",
       "FEMALE   174485    174485  \n",
       "MALE     205851    205851  "
      ]
     },
     "execution_count": 46,
     "metadata": {},
     "output_type": "execute_result"
    }
   ],
   "source": [
    "\n",
    "# (Hint: Data is balanced if number of counts in each group is approximately same)\n",
    "\n",
    "master_data.groupby('Gender').count()"
   ]
  },
  {
   "cell_type": "markdown",
   "id": "f6cf266d",
   "metadata": {},
   "source": [
    "### 4-D: Vehicle age wise average annual premium."
   ]
  },
  {
   "cell_type": "code",
   "execution_count": 50,
   "id": "2f0237fe",
   "metadata": {},
   "outputs": [
    {
     "name": "stdout",
     "output_type": "stream",
     "text": [
      "vehicle age\n",
      "1-2 YEAR     29102.009839\n",
      "< 1 YEAR     29188.150594\n",
      "> 2 YEARS    32943.540830\n",
      "Name: annual premium (in Rs), dtype: float64\n"
     ]
    },
    {
     "data": {
      "text/plain": [
       "<AxesSubplot:title={'center':'vehicle_age vs average annual premium'}, xlabel='vehicle age'>"
      ]
     },
     "execution_count": 50,
     "metadata": {},
     "output_type": "execute_result"
    },
    {
     "data": {
      "image/png": "[encoded data removed]",
      "text/plain": [
       "<Figure size 432x288 with 1 Axes>"
      ]
     },
     "metadata": {
      "needs_background": "light"
     },
     "output_type": "display_data"
    }
   ],
   "source": [
    "vehicle_age_data = master_data.groupby('vehicle age')['annual premium (in Rs)'].mean()\n",
    "print(vehicle_age_data)\n",
    "\n",
    "# Bar plot \n",
    "vehicle_age_data.plot.bar(title='vehicle_age vs average annual premium',width=0.6)"
   ]
  },
  {
   "cell_type": "markdown",
   "id": "ce5c8eca",
   "metadata": {},
   "source": [
    "## 5.Is there any relation between Person Age and annual premium?"
   ]
  },
  {
   "cell_type": "code",
   "execution_count": 51,
   "id": "ec9fd34a",
   "metadata": {},
   "outputs": [
    {
     "name": "stdout",
     "output_type": "stream",
     "text": [
      "Coefficient of Correlation is:  0.0506575892861754\n",
      "There is no relationship\n"
     ]
    }
   ],
   "source": [
    "# Hint: use correlation function (Correlation describes the relationship between two variables). \n",
    "'''Correlation coefficient < -0.5           - Strong negative relationship\n",
    "Correlation coefficient > 0.5            -  Strong positive relationship\n",
    "0.5 < Correlation coefficient < 0.5   - There is no relationship. '''\n",
    "\n",
    "corr_coeff=master_data['age'].corr(master_data['annual premium (in Rs)'])\n",
    "print('Coefficient of Correlation is: ',corr_coeff)\n",
    "if corr_coeff < -0.5 :\n",
    "    print('Strong negative relationship')\n",
    "elif corr_coeff > -0.5 and corr_coeff < 0.5:\n",
    "    print('There is no relationship')\n",
    "elif corr_coeff > 0.5:\n",
    "    print('Strong positive relationship')"
   ]
  }
 ],
 "metadata": {
  "kernelspec": {
   "display_name": "Python 3 (ipykernel)",
   "language": "python",
   "name": "python3"
  },
  "language_info": {
   "codemirror_mode": {
    "name": "ipython",
    "version": 3
   },
   "file_extension": ".py",
   "mimetype": "text/x-python",
   "name": "python",
   "nbconvert_exporter": "python",
   "pygments_lexer": "ipython3",
   "version": "3.9.12"
  }
 },
 "nbformat": 4,
 "nbformat_minor": 5
}
